{
 "cells": [
  {
   "cell_type": "markdown",
   "metadata": {},
   "source": [
    "## Read in Data"
   ]
  },
  {
   "cell_type": "code",
   "execution_count": 144,
   "metadata": {
    "collapsed": true
   },
   "outputs": [],
   "source": [
    "# Regression experiments for 4741\n",
    "\n",
    "# spotify <- read.table(file=\"Spotify4741.10.26.csv\", header=TRUE, sep=\",\")\n",
    "\n",
    "# reading in the new file\n",
    "\n",
    "spotify <- read.table(file=\"Spotify4741_Pop.csv\", header=TRUE, sep=\",\")"
   ]
  },
  {
   "cell_type": "code",
   "execution_count": 145,
   "metadata": {},
   "outputs": [
    {
     "data": {
      "text/html": [
       "0"
      ],
      "text/latex": [
       "0"
      ],
      "text/markdown": [
       "0"
      ],
      "text/plain": [
       "[1] 0"
      ]
     },
     "metadata": {},
     "output_type": "display_data"
    }
   ],
   "source": [
    "sum(is.na(spotify))"
   ]
  },
  {
   "cell_type": "code",
   "execution_count": 146,
   "metadata": {
    "collapsed": true
   },
   "outputs": [],
   "source": [
    "#Read in columns that we only care about\n",
    "spotify3 <- spotify[, c(\"acousticness\", \"danceability\", \"energy\", \"liveness\", \"loudness\", \"speechiness\", \"tempo\", \"valence\", \"Like.or.not.like\")]\n",
    "#Convert -1 to 0 \n",
    "spotify3$Like.or.not.like[spotify3$Like.or.not.like == -1] <- 0"
   ]
  },
  {
   "cell_type": "code",
   "execution_count": 147,
   "metadata": {},
   "outputs": [
    {
     "data": {
      "text/html": [
       "0"
      ],
      "text/latex": [
       "0"
      ],
      "text/markdown": [
       "0"
      ],
      "text/plain": [
       "[1] 0"
      ]
     },
     "metadata": {},
     "output_type": "display_data"
    }
   ],
   "source": [
    "sum(is.na(spotify3))"
   ]
  },
  {
   "cell_type": "markdown",
   "metadata": {},
   "source": [
    "# ROC Curve Selection for Logistic Regression"
   ]
  },
  {
   "cell_type": "code",
   "execution_count": 148,
   "metadata": {},
   "outputs": [
    {
     "data": {
      "text/plain": [
       "\n",
       "Call:\n",
       "glm(formula = Like.or.not.like ~ ., family = binomial, data = spotify3)\n",
       "\n",
       "Deviance Residuals: \n",
       "    Min       1Q   Median       3Q      Max  \n",
       "-1.4839  -1.0113  -0.8486   1.2551   1.6978  \n",
       "\n",
       "Coefficients:\n",
       "             Estimate Std. Error z value Pr(>|z|)\n",
       "(Intercept)   2.61272    2.32204   1.125    0.261\n",
       "acousticness  0.19567    1.21941   0.160    0.873\n",
       "danceability  1.62677    1.63532   0.995    0.320\n",
       "energy       -2.72078    1.73653  -1.567    0.117\n",
       "liveness      0.45445    1.40070   0.324    0.746\n",
       "loudness      0.18602    0.12486   1.490    0.136\n",
       "speechiness  -1.55861    2.72743  -0.571    0.568\n",
       "tempo        -0.00441    0.00753  -0.586    0.558\n",
       "valence      -1.09143    1.05841  -1.031    0.302\n",
       "\n",
       "(Dispersion parameter for binomial family taken to be 1)\n",
       "\n",
       "    Null deviance: 232.11  on 170  degrees of freedom\n",
       "Residual deviance: 225.41  on 162  degrees of freedom\n",
       "AIC: 243.41\n",
       "\n",
       "Number of Fisher Scoring iterations: 4\n"
      ]
     },
     "metadata": {},
     "output_type": "display_data"
    }
   ],
   "source": [
    "# Logistic Regression\n",
    "spotify_logit <- glm(Like.or.not.like~., data = spotify3, family = binomial)\n",
    "summary(spotify_logit)"
   ]
  },
  {
   "cell_type": "markdown",
   "metadata": {},
   "source": [
    "## Logistic Regression"
   ]
  },
  {
   "cell_type": "code",
   "execution_count": 125,
   "metadata": {
    "collapsed": true
   },
   "outputs": [],
   "source": [
    "#Production Run \n",
    "n=500;\n",
    "overall = rep(0,n); tprcol = rep(0,n); recommended = rep(0,n); weightedaverage = rep(0,n);\n",
    "overall1 = rep(0,n); tprcol1 = rep(0,n); recommended1 = rep(0,n); weightedaverage1 = rep(0,n);\n",
    "\n",
    "set.seed(10)\n",
    "#Set aside cross validation set\n",
    "cv <- sample(1:nrow(spotify3),1/10*nrow(spotify3))\n",
    "cv1 <- spotify3[cv,]\n",
    "spotify3 <- spotify3[-cv, ]\n",
    "for (j in 1:n) {\n",
    "    train_ind <- sample(1:nrow(spotify3), 2/3*nrow(spotify3))\n",
    "    spotify3_train <- spotify3[train_ind, ]\n",
    "    spotify3_test <- spotify3[-train_ind, ]\n",
    "\n",
    "    #Training fit of function \n",
    "    spotify3_logit <- glm(Like.or.not.like~., data = spotify3_train, family = binomial)\n",
    "    #Summary Results\n",
    "    summary(spotify3_logit)\n",
    "    #Testing fit for TESTING\n",
    "    spotify3_pred <- predict(spotify3_logit, spotify3_test, type = \"response\")\n",
    "\n",
    "    #fit for CROSSVALIDATION\n",
    "    spotify3_cv <- predict(spotify3_logit, cv1, type = \"response\")\n",
    "\n",
    "    #Sample fit for 0.4 threshold TESTING\n",
    "    spotify_bin <- as.numeric(spotify3_pred >= 0.4)\n",
    "    table(spotify_bin, spotify3_test$Like.or.not.like)\n",
    "    testtable=table(spotify_bin, spotify3_test$Like.or.not.like)\n",
    "    \n",
    "    #Sample fit for 0.4 threshold CROSSVALIDATION\n",
    "    spotify_bin <- as.numeric(spotify3_cv >= 0.4)\n",
    "    table(spotify_bin, cv1$Like.or.not.like)\n",
    "    cvtable=table(spotify_bin, cv1$Like.or.not.like)\n",
    "    \n",
    "    #Check that table is 2x2 then only do the following for testing\n",
    "    if (dim(testtable)[1] == 2 && dim(testtable)[2] == 2 && (testtable[1,1]+testtable[2,2])/(testtable[1,1]+testtable[2,2]+testtable[1,2]+testtable[2,1]) != 0 && testtable[2,2]/(sum(testtable[,2])) != 0 && testtable[2,2]/(sum(testtable[2,])) != 0) \n",
    "        overall[j] = (testtable[1,1]+testtable[2,2])/(testtable[1,1]+testtable[2,2]+testtable[1,2]+testtable[2,1]);\n",
    "        tprcol[j] = testtable[2,2]/(sum(testtable[,2]));\n",
    "        recommended[j] = testtable[2,2]/(sum(testtable[2,]));\n",
    "        weightedaverage[j] = 0.5*tprcol[j] + 0.5*recommended[j];\n",
    "    \n",
    "    # cross validation\n",
    "    if (dim(cvtable)[1] == 2 && dim(cvtable)[2] == 2 && (cvtable[1,1]+cvtable[2,2])/(cvtable[1,1]+cvtable[2,2]+cvtable[1,2]+cvtable[2,1]) != 0 && cvtable[2,2]/(sum(cvtable[,2])) != 0 && cvtable[2,2]/(sum(cvtable[2,])) != 0 ){    \n",
    "        #cross validating values\n",
    "        overall1[j] = (cvtable[1,1]+cvtable[2,2])/(cvtable[1,1]+cvtable[2,2]+cvtable[1,2]+cvtable[2,1]);\n",
    "        tprcol1[j] = cvtable[2,2]/(sum(cvtable[,2]));\n",
    "        recommended1[j] = cvtable[2,2]/(sum(cvtable[2,]));\n",
    "        weightedaverage1[j] = 0.5*tprcol1[j] + 0.5*recommended1[j];\n",
    "    }\n",
    "}"
   ]
  },
  {
   "cell_type": "code",
   "execution_count": 126,
   "metadata": {},
   "outputs": [
    {
     "name": "stdout",
     "output_type": "stream",
     "text": [
      "[1] \"testing values\"\n"
     ]
    },
    {
     "data": {
      "text/html": [
       "0.607782857142857"
      ],
      "text/latex": [
       "0.607782857142857"
      ],
      "text/markdown": [
       "0.607782857142857"
      ],
      "text/plain": [
       "[1] 0.6077829"
      ]
     },
     "metadata": {},
     "output_type": "display_data"
    },
    {
     "data": {
      "text/html": [
       "0.779208575562165"
      ],
      "text/latex": [
       "0.779208575562165"
      ],
      "text/markdown": [
       "0.779208575562165"
      ],
      "text/plain": [
       "[1] 0.7792086"
      ]
     },
     "metadata": {},
     "output_type": "display_data"
    },
    {
     "data": {
      "text/html": [
       "0.558113344123247"
      ],
      "text/latex": [
       "0.558113344123247"
      ],
      "text/markdown": [
       "0.558113344123247"
      ],
      "text/plain": [
       "[1] 0.5581133"
      ]
     },
     "metadata": {},
     "output_type": "display_data"
    },
    {
     "data": {
      "text/html": [
       "0.668660959842706"
      ],
      "text/latex": [
       "0.668660959842706"
      ],
      "text/markdown": [
       "0.668660959842706"
      ],
      "text/plain": [
       "[1] 0.668661"
      ]
     },
     "metadata": {},
     "output_type": "display_data"
    },
    {
     "name": "stdout",
     "output_type": "stream",
     "text": [
      "[1] \"cv values\"\n"
     ]
    },
    {
     "data": {
      "text/html": [
       "0.638793103448276"
      ],
      "text/latex": [
       "0.638793103448276"
      ],
      "text/markdown": [
       "0.638793103448276"
      ],
      "text/plain": [
       "[1] 0.6387931"
      ]
     },
     "metadata": {},
     "output_type": "display_data"
    },
    {
     "data": {
      "text/html": [
       "0.728742857142857"
      ],
      "text/latex": [
       "0.728742857142857"
      ],
      "text/markdown": [
       "0.728742857142857"
      ],
      "text/plain": [
       "[1] 0.7287429"
      ]
     },
     "metadata": {},
     "output_type": "display_data"
    },
    {
     "data": {
      "text/html": [
       "0.690372403087399"
      ],
      "text/latex": [
       "0.690372403087399"
      ],
      "text/markdown": [
       "0.690372403087399"
      ],
      "text/plain": [
       "[1] 0.6903724"
      ]
     },
     "metadata": {},
     "output_type": "display_data"
    },
    {
     "data": {
      "text/html": [
       "0.709557630115128"
      ],
      "text/latex": [
       "0.709557630115128"
      ],
      "text/markdown": [
       "0.709557630115128"
      ],
      "text/plain": [
       "[1] 0.7095576"
      ]
     },
     "metadata": {},
     "output_type": "display_data"
    }
   ],
   "source": [
    "print(\"testing values\")\n",
    "mean(overall);mean(tprcol);mean(recommended);mean(weightedaverage);\n",
    "print(\"cv values\")\n",
    "mean(overall1);mean(tprcol1);mean(recommended1);mean(weightedaverage1);"
   ]
  },
  {
   "cell_type": "code",
   "execution_count": null,
   "metadata": {
    "collapsed": true
   },
   "outputs": [],
   "source": []
  }
 ],
 "metadata": {
  "kernelspec": {
   "display_name": "R",
   "language": "R",
   "name": "ir"
  },
  "language_info": {
   "codemirror_mode": "r",
   "file_extension": ".r",
   "mimetype": "text/x-r-source",
   "name": "R",
   "pygments_lexer": "r",
   "version": "3.4.1"
  }
 },
 "nbformat": 4,
 "nbformat_minor": 2
}
