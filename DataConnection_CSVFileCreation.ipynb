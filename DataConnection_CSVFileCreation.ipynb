{
 "cells": [
  {
   "cell_type": "markdown",
   "metadata": {},
   "source": [
    "### Import necessary libraries"
   ]
  },
  {
   "cell_type": "code",
   "execution_count": null,
   "metadata": {
    "collapsed": true
   },
   "outputs": [],
   "source": [
    "import math\n",
    "import pandas as pd \n",
    "import spotipy \n",
    "sp = spotipy.Spotify() \n",
    "from spotipy.oauth2 import SpotifyClientCredentials "
   ]
  },
  {
   "cell_type": "markdown",
   "metadata": {},
   "source": [
    "### Connect to Spotify and read as data"
   ]
  },
  {
   "cell_type": "code",
   "execution_count": null,
   "metadata": {},
   "outputs": [],
   "source": [
    "cid = \"***********************\"\n",
    "secret = \"***********************\" \n",
    "client_credentials_manager = SpotifyClientCredentials(client_id=cid, client_secret=secret) \n",
    "sp = spotipy.Spotify(client_credentials_manager=client_credentials_manager) \n",
    "sp.trace=False \n",
    "playlist = sp.user_playlist(\"vagawade\")\n",
    "playlist_names = ['20rknQjvQFrCirfrQM0wPJ','5awtCHtTbOw5vuklFZtsn0'] #\n",
    "\n",
    "#genre_names = [1,2,3,4] #1 = Pop/EDM/Dace,2=Soft Rock/Rock,3=Soft,4=Hip Hop\n",
    "#1 = like, -1=do not like\n",
    "\n",
    "df = pd.DataFrame()\n",
    "df1 = pd.DataFrame()\n",
    "for i in range(len(playlist_names)):\n",
    "    #playlist = sp.user_playlist(\"vagawade\", playlist_names[i])\n",
    "    \n",
    "    #def get_playlist_tracks(username,playlist_id):\n",
    "    results = sp.user_playlist_tracks(\"vagawade\",playlist_names[i]) #playlist_names[0])# username,playlist_id\n",
    "    tracks = results['items']\n",
    "    while results['next']:\n",
    "        results = sp.next(results)\n",
    "        tracks.extend(results['items'])\n",
    "  \n",
    "    ids = [] \n",
    "    for j in range(len(tracks)):\n",
    "        ids.append(tracks[j][\"track\"][\"id\"])\n",
    "    print(len(ids))\n",
    "    \n",
    "    features = []\n",
    "    #for j in range(len(ids)): #len(ids)\n",
    "    a=0\n",
    "    while (a < len(ids)):\n",
    "        features.append(sp.audio_features(ids[a:a+1]))  \n",
    "        a=a+1\n",
    "    print(len(features))\n",
    "    print('done with features')\n",
    "    \n",
    "    df = pd.DataFrame(features)\n",
    "    if (i%2 == 0):\n",
    "        df['Like or not like'] = 1\n",
    "    if (i%2 != 0): #apply -1 = not like song if i is odd\n",
    "        df['Like or not like'] = 0\n",
    "    #df['Genre'] = genre_names[math.floor(i/2)]\n",
    "    df1 = df1.append(df)\n",
    "    \n",
    "    #result = pd.concat(df1)\n",
    "    #for i in range(2):\n",
    "print(len(df1))"
   ]
  },
  {
   "cell_type": "code",
   "execution_count": null,
   "metadata": {
    "collapsed": true
   },
   "outputs": [],
   "source": [
    "print(len(ids))\n",
    "print(len(features))\n",
    "print(len(df1))\n"
   ]
  },
  {
   "cell_type": "markdown",
   "metadata": {},
   "source": [
    "### Write as CSV"
   ]
  },
  {
   "cell_type": "code",
   "execution_count": null,
   "metadata": {
    "collapsed": true
   },
   "outputs": [],
   "source": [
    "df1.to_csv('SpotifyHipHop2.csv')"
   ]
  },
  {
   "cell_type": "code",
   "execution_count": null,
   "metadata": {},
   "outputs": [],
   "source": [
    "print (df1)"
   ]
  },
  {
   "cell_type": "code",
   "execution_count": null,
   "metadata": {
    "collapsed": true
   },
   "outputs": [],
   "source": []
  }
 ],
 "metadata": {
  "kernelspec": {
   "display_name": "Python 3",
   "language": "python",
   "name": "python3"
  },
  "language_info": {
   "codemirror_mode": {
    "name": "ipython",
    "version": 3
   },
   "file_extension": ".py",
   "mimetype": "text/x-python",
   "name": "python",
   "nbconvert_exporter": "python",
   "pygments_lexer": "ipython3",
   "version": "3.6.2"
  }
 },
 "nbformat": 4,
 "nbformat_minor": 2
}
