{
 "cells": [
  {
   "cell_type": "markdown",
   "metadata": {},
   "source": [
    "## Read in Data"
   ]
  },
  {
   "cell_type": "code",
   "execution_count": 404,
   "metadata": {
    "collapsed": true
   },
   "outputs": [],
   "source": [
    "# Regression experiments for 4741\n",
    "\n",
    "# spotify <- read.table(file=\"Spotify4741.10.26.csv\", header=TRUE, sep=\",\")\n",
    "\n",
    "# reading in the new file\n",
    "\n",
    "spotify <- read.table(file=\"Spotify4741_OG.csv\", header=TRUE, sep=\",\")"
   ]
  },
  {
   "cell_type": "code",
   "execution_count": 405,
   "metadata": {},
   "outputs": [
    {
     "data": {
      "text/html": [
       "0"
      ],
      "text/latex": [
       "0"
      ],
      "text/markdown": [
       "0"
      ],
      "text/plain": [
       "[1] 0"
      ]
     },
     "metadata": {},
     "output_type": "display_data"
    }
   ],
   "source": [
    "sum(is.na(spotify))"
   ]
  },
  {
   "cell_type": "code",
   "execution_count": 406,
   "metadata": {
    "collapsed": true
   },
   "outputs": [],
   "source": [
    "#Read in columns that we only care about\n",
    "spotify3 <- spotify[, c(\"acousticness\", \"danceability\", \"energy\", \"liveness\", \"loudness\", \"speechiness\", \"tempo\", \"valence\", \"Like.or.not.like\")]\n",
    "#Convert -1 to 0 \n",
    "spotify3$Like.or.not.like[spotify3$Like.or.not.like == -1] <- 0"
   ]
  },
  {
   "cell_type": "code",
   "execution_count": 407,
   "metadata": {},
   "outputs": [
    {
     "data": {
      "text/html": [
       "0"
      ],
      "text/latex": [
       "0"
      ],
      "text/markdown": [
       "0"
      ],
      "text/plain": [
       "[1] 0"
      ]
     },
     "metadata": {},
     "output_type": "display_data"
    }
   ],
   "source": [
    "sum(is.na(spotify3))"
   ]
  },
  {
   "cell_type": "markdown",
   "metadata": {},
   "source": [
    "# ROC Curve Selection "
   ]
  },
  {
   "cell_type": "code",
   "execution_count": 400,
   "metadata": {},
   "outputs": [
    {
     "data": {
      "text/plain": [
       "\n",
       "Call:\n",
       "glm(formula = Like.or.not.like ~ ., family = binomial, data = spotify3)\n",
       "\n",
       "Deviance Residuals: \n",
       "    Min       1Q   Median       3Q      Max  \n",
       "-1.3169  -1.0791  -0.9167   1.2616   1.7663  \n",
       "\n",
       "Coefficients:\n",
       "              Estimate Std. Error z value Pr(>|z|)  \n",
       "(Intercept)   1.896360   0.937285   2.023   0.0430 *\n",
       "acousticness -0.321053   0.390073  -0.823   0.4105  \n",
       "danceability  0.163968   0.612915   0.268   0.7891  \n",
       "energy       -1.642466   0.761406  -2.157   0.0310 *\n",
       "liveness      0.289843   0.580878   0.499   0.6178  \n",
       "loudness      0.111597   0.043505   2.565   0.0103 *\n",
       "speechiness   0.017238   0.866801   0.020   0.9841  \n",
       "tempo        -0.000958   0.002753  -0.348   0.7279  \n",
       "valence      -0.744456   0.444260  -1.676   0.0938 .\n",
       "---\n",
       "Signif. codes:  0 ‘***’ 0.001 ‘**’ 0.01 ‘*’ 0.05 ‘.’ 0.1 ‘ ’ 1\n",
       "\n",
       "(Dispersion parameter for binomial family taken to be 1)\n",
       "\n",
       "    Null deviance: 972.83  on 709  degrees of freedom\n",
       "Residual deviance: 960.10  on 701  degrees of freedom\n",
       "AIC: 978.1\n",
       "\n",
       "Number of Fisher Scoring iterations: 4\n"
      ]
     },
     "metadata": {},
     "output_type": "display_data"
    }
   ],
   "source": [
    "# Logistic Regression\n",
    "spotify_logit <- glm(Like.or.not.like~., data = spotify3, family = binomial)\n",
    "summary(spotify_logit)"
   ]
  },
  {
   "cell_type": "markdown",
   "metadata": {},
   "source": [
    "## ROC Curve selection for Logistic Regression"
   ]
  },
  {
   "cell_type": "code",
   "execution_count": 334,
   "metadata": {
    "collapsed": true
   },
   "outputs": [],
   "source": [
    "# Redo the fitting again\n",
    "#Set up lower bound and uper bound for threshold \n",
    "lb <- 0; ub <- 1\n",
    "\n",
    "#Establish weighted average ratios\n",
    "tpr_w <- .5; recommend_w <- .5;\n",
    "\n",
    "#Define variables\n",
    "tpr <- rep(0, (ub-lb)/0.01 + 1)\n",
    "fpr <- rep(0, (ub-lb)/0.01 + 1)\n",
    "counter <- 1\n",
    "accuracy <- 0\n",
    "index <- 1\n",
    "index_1 <- -1; index_2 <- -1; index_3 <- -1;\n",
    "train_ind <- sample(1:nrow(spotify3), 2/3*nrow(spotify3))\n",
    "spotify3_train <- spotify3[train_ind, ]\n",
    "spotify3_test <- spotify3[-train_ind, ]\n",
    "\n",
    "#Training fit of function \n",
    "spotify3_logit <- glm(Like.or.not.like~., data = spotify3_train, family = binomial)\n",
    "#Testing fit for TESTING\n",
    "spotify3_pred <- predict(spotify3_logit, spotify3_test, type = \"response\")\n",
    "\n",
    "#For loop for varying thresholds\n",
    "for (threshold in seq(0,1,.01)) {\n",
    "\n",
    "    #Fit Logistic Regression for different threshold\n",
    "    spotify_bin <- as.numeric(spotify3_pred >= threshold)\n",
    "    table(spotify_bin, spotify3_test$Like.or.not.like)\n",
    "    y=table(spotify_bin, spotify3_test$Like.or.not.like)\n",
    "    \n",
    "    #Check that table is 2x2 then only do the following\n",
    "    if (dim(y)[1] == 2 && dim(y)[2] == 2 && (y[1,1]!=0 && y[1,2]!=0 && y[2,1]!=0 && y[2,2]!=0)) {\n",
    "\n",
    "        #track the TPR and FPR for different thresholds\n",
    "        tpr[counter] <- y[2,2]/(sum(y[,2])) \n",
    "        fpr[counter] <- y[2,1]/(sum(y[,1]))\n",
    "    \n",
    "        #Calculate best combination of weighted average accuracy\n",
    "        #Go through each TPR weightage\n",
    "        for (j in seq(tpr_w, 1.0, 0.01)) {\n",
    "            #Go through each recommended weightage\n",
    "            for (k in seq(recommend_w, 1.0, 0.01)) {\n",
    "                    if (((tpr_w*tpr[counter] + recommend_w*y[2,2]/sum(y[2,])) > accuracy) && (tpr[counter] > j) && ((y[2,2]/sum(y[2,])) > k ) ) {\n",
    "                        accuracy <- (tpr_w*tpr[counter] + recommend_w*y[2,2]/sum(y[2,]))\n",
    "                        index_1 <- counter\n",
    "                        index_2 <- j\n",
    "                        index_3 <- k\n",
    "                        selected_table=table(spotify_bin, spotify3_test$Like.or.not.like)\n",
    "                }\n",
    "            }\n",
    "        }\n",
    "    }                  \n",
    "    counter <- counter+1\n",
    "}"
   ]
  },
  {
   "cell_type": "code",
   "execution_count": 341,
   "metadata": {},
   "outputs": [
    {
     "data": {
      "text/html": [
       "<ol class=list-inline>\n",
       "\t<li>0.905660377358491</li>\n",
       "\t<li>0.905660377358491</li>\n",
       "\t<li>0.89622641509434</li>\n",
       "\t<li>0.886792452830189</li>\n",
       "\t<li>0.886792452830189</li>\n",
       "\t<li>0.877358490566038</li>\n",
       "\t<li>0.839622641509434</li>\n",
       "\t<li>0.839622641509434</li>\n",
       "\t<li>0.820754716981132</li>\n",
       "\t<li>0.783018867924528</li>\n",
       "\t<li>0.773584905660377</li>\n",
       "\t<li>0.754716981132076</li>\n",
       "\t<li>0.735849056603774</li>\n",
       "\t<li>0.726415094339623</li>\n",
       "\t<li>0.716981132075472</li>\n",
       "\t<li>0.688679245283019</li>\n",
       "\t<li>0.679245283018868</li>\n",
       "\t<li>0.641509433962264</li>\n",
       "\t<li>0.632075471698113</li>\n",
       "\t<li>0.594339622641509</li>\n",
       "\t<li>0.556603773584906</li>\n",
       "\t<li>0.537735849056604</li>\n",
       "\t<li>0.509433962264151</li>\n",
       "\t<li>0.509433962264151</li>\n",
       "\t<li>0.509433962264151</li>\n",
       "\t<li>0.509433962264151</li>\n",
       "\t<li>0.509433962264151</li>\n",
       "\t<li>0.5</li>\n",
       "\t<li>0.462264150943396</li>\n",
       "\t<li>0.443396226415094</li>\n",
       "\t<li>0.424528301886792</li>\n",
       "\t<li>0.415094339622642</li>\n",
       "\t<li>0.39622641509434</li>\n",
       "\t<li>0.367924528301887</li>\n",
       "\t<li>0.367924528301887</li>\n",
       "\t<li>0.339622641509434</li>\n",
       "\t<li>0.311320754716981</li>\n",
       "\t<li>0.30188679245283</li>\n",
       "\t<li>0.273584905660377</li>\n",
       "\t<li>0.235849056603774</li>\n",
       "\t<li>0.235849056603774</li>\n",
       "\t<li>0.207547169811321</li>\n",
       "\t<li>0.188679245283019</li>\n",
       "\t<li>0.179245283018868</li>\n",
       "\t<li>0.160377358490566</li>\n",
       "\t<li>0.150943396226415</li>\n",
       "\t<li>0.132075471698113</li>\n",
       "\t<li>0.10377358490566</li>\n",
       "\t<li>0.0849056603773585</li>\n",
       "\t<li>0.0849056603773585</li>\n",
       "\t<li>0.0660377358490566</li>\n",
       "\t<li>0.0566037735849057</li>\n",
       "\t<li>0.0377358490566038</li>\n",
       "\t<li>0.0377358490566038</li>\n",
       "\t<li>0.0283018867924528</li>\n",
       "\t<li>0.0283018867924528</li>\n",
       "\t<li>0.0283018867924528</li>\n",
       "\t<li>0.0283018867924528</li>\n",
       "\t<li>0.0283018867924528</li>\n",
       "\t<li>0.0188679245283019</li>\n",
       "\t<li>0.00943396226415094</li>\n",
       "\t<li>0.00943396226415094</li>\n",
       "\t<li>0.00943396226415094</li>\n",
       "\t<li>0.00943396226415094</li>\n",
       "\t<li>0.00943396226415094</li>\n",
       "\t<li>0.00943396226415094</li>\n",
       "</ol>\n"
      ],
      "text/latex": [
       "\\begin{enumerate*}\n",
       "\\item 0.905660377358491\n",
       "\\item 0.905660377358491\n",
       "\\item 0.89622641509434\n",
       "\\item 0.886792452830189\n",
       "\\item 0.886792452830189\n",
       "\\item 0.877358490566038\n",
       "\\item 0.839622641509434\n",
       "\\item 0.839622641509434\n",
       "\\item 0.820754716981132\n",
       "\\item 0.783018867924528\n",
       "\\item 0.773584905660377\n",
       "\\item 0.754716981132076\n",
       "\\item 0.735849056603774\n",
       "\\item 0.726415094339623\n",
       "\\item 0.716981132075472\n",
       "\\item 0.688679245283019\n",
       "\\item 0.679245283018868\n",
       "\\item 0.641509433962264\n",
       "\\item 0.632075471698113\n",
       "\\item 0.594339622641509\n",
       "\\item 0.556603773584906\n",
       "\\item 0.537735849056604\n",
       "\\item 0.509433962264151\n",
       "\\item 0.509433962264151\n",
       "\\item 0.509433962264151\n",
       "\\item 0.509433962264151\n",
       "\\item 0.509433962264151\n",
       "\\item 0.5\n",
       "\\item 0.462264150943396\n",
       "\\item 0.443396226415094\n",
       "\\item 0.424528301886792\n",
       "\\item 0.415094339622642\n",
       "\\item 0.39622641509434\n",
       "\\item 0.367924528301887\n",
       "\\item 0.367924528301887\n",
       "\\item 0.339622641509434\n",
       "\\item 0.311320754716981\n",
       "\\item 0.30188679245283\n",
       "\\item 0.273584905660377\n",
       "\\item 0.235849056603774\n",
       "\\item 0.235849056603774\n",
       "\\item 0.207547169811321\n",
       "\\item 0.188679245283019\n",
       "\\item 0.179245283018868\n",
       "\\item 0.160377358490566\n",
       "\\item 0.150943396226415\n",
       "\\item 0.132075471698113\n",
       "\\item 0.10377358490566\n",
       "\\item 0.0849056603773585\n",
       "\\item 0.0849056603773585\n",
       "\\item 0.0660377358490566\n",
       "\\item 0.0566037735849057\n",
       "\\item 0.0377358490566038\n",
       "\\item 0.0377358490566038\n",
       "\\item 0.0283018867924528\n",
       "\\item 0.0283018867924528\n",
       "\\item 0.0283018867924528\n",
       "\\item 0.0283018867924528\n",
       "\\item 0.0283018867924528\n",
       "\\item 0.0188679245283019\n",
       "\\item 0.00943396226415094\n",
       "\\item 0.00943396226415094\n",
       "\\item 0.00943396226415094\n",
       "\\item 0.00943396226415094\n",
       "\\item 0.00943396226415094\n",
       "\\item 0.00943396226415094\n",
       "\\end{enumerate*}\n"
      ],
      "text/markdown": [
       "1. 0.905660377358491\n",
       "2. 0.905660377358491\n",
       "3. 0.89622641509434\n",
       "4. 0.886792452830189\n",
       "5. 0.886792452830189\n",
       "6. 0.877358490566038\n",
       "7. 0.839622641509434\n",
       "8. 0.839622641509434\n",
       "9. 0.820754716981132\n",
       "10. 0.783018867924528\n",
       "11. 0.773584905660377\n",
       "12. 0.754716981132076\n",
       "13. 0.735849056603774\n",
       "14. 0.726415094339623\n",
       "15. 0.716981132075472\n",
       "16. 0.688679245283019\n",
       "17. 0.679245283018868\n",
       "18. 0.641509433962264\n",
       "19. 0.632075471698113\n",
       "20. 0.594339622641509\n",
       "21. 0.556603773584906\n",
       "22. 0.537735849056604\n",
       "23. 0.509433962264151\n",
       "24. 0.509433962264151\n",
       "25. 0.509433962264151\n",
       "26. 0.509433962264151\n",
       "27. 0.509433962264151\n",
       "28. 0.5\n",
       "29. 0.462264150943396\n",
       "30. 0.443396226415094\n",
       "31. 0.424528301886792\n",
       "32. 0.415094339622642\n",
       "33. 0.39622641509434\n",
       "34. 0.367924528301887\n",
       "35. 0.367924528301887\n",
       "36. 0.339622641509434\n",
       "37. 0.311320754716981\n",
       "38. 0.30188679245283\n",
       "39. 0.273584905660377\n",
       "40. 0.235849056603774\n",
       "41. 0.235849056603774\n",
       "42. 0.207547169811321\n",
       "43. 0.188679245283019\n",
       "44. 0.179245283018868\n",
       "45. 0.160377358490566\n",
       "46. 0.150943396226415\n",
       "47. 0.132075471698113\n",
       "48. 0.10377358490566\n",
       "49. 0.0849056603773585\n",
       "50. 0.0849056603773585\n",
       "51. 0.0660377358490566\n",
       "52. 0.0566037735849057\n",
       "53. 0.0377358490566038\n",
       "54. 0.0377358490566038\n",
       "55. 0.0283018867924528\n",
       "56. 0.0283018867924528\n",
       "57. 0.0283018867924528\n",
       "58. 0.0283018867924528\n",
       "59. 0.0283018867924528\n",
       "60. 0.0188679245283019\n",
       "61. 0.00943396226415094\n",
       "62. 0.00943396226415094\n",
       "63. 0.00943396226415094\n",
       "64. 0.00943396226415094\n",
       "65. 0.00943396226415094\n",
       "66. 0.00943396226415094\n",
       "\n",
       "\n"
      ],
      "text/plain": [
       " [1] 0.905660377 0.905660377 0.896226415 0.886792453 0.886792453 0.877358491\n",
       " [7] 0.839622642 0.839622642 0.820754717 0.783018868 0.773584906 0.754716981\n",
       "[13] 0.735849057 0.726415094 0.716981132 0.688679245 0.679245283 0.641509434\n",
       "[19] 0.632075472 0.594339623 0.556603774 0.537735849 0.509433962 0.509433962\n",
       "[25] 0.509433962 0.509433962 0.509433962 0.500000000 0.462264151 0.443396226\n",
       "[31] 0.424528302 0.415094340 0.396226415 0.367924528 0.367924528 0.339622642\n",
       "[37] 0.311320755 0.301886792 0.273584906 0.235849057 0.235849057 0.207547170\n",
       "[43] 0.188679245 0.179245283 0.160377358 0.150943396 0.132075472 0.103773585\n",
       "[49] 0.084905660 0.084905660 0.066037736 0.056603774 0.037735849 0.037735849\n",
       "[55] 0.028301887 0.028301887 0.028301887 0.028301887 0.028301887 0.018867925\n",
       "[61] 0.009433962 0.009433962 0.009433962 0.009433962 0.009433962 0.009433962"
      ]
     },
     "metadata": {},
     "output_type": "display_data"
    }
   ],
   "source": [
    "#fpr[length(fpr)] <- NULL\n"
   ]
  },
  {
   "cell_type": "code",
   "execution_count": 417,
   "metadata": {},
   "outputs": [
    {
     "data": {
      "image/png": "[encoded data removed]",
      "text/plain": [
       "Plot with title “ROC Curve for All Genres”"
      ]
     },
     "metadata": {},
     "output_type": "display_data"
    }
   ],
   "source": [
    "# Drop all 0s\n",
    "fpr = fpr[fpr > 0]; tpr = tpr[tpr>0];\n",
    "fpr_pop = fpr_pop[fpr_pop > 0]; tpr_pop = tpr_pop[tpr_pop>0];\n",
    "fpr_r = fpr_r[fpr_r > 0]; tpr_r = tpr_r[tpr_r>0];\n",
    "fpr_s = fpr_s[fpr_s > 0]; tpr_s = tpr_s[tpr_s>0];\n",
    "fpr_a = fpr_a[fpr_a > 0]; tpr_a = tpr_a[tpr_a>0];\n",
    "\n",
    "#Plot all ROC curves for each genre\n",
    "plot(fpr,tpr, col=rgb(1,0,0),pch=15,type=\"b\", cex=0.5) #hip hop\n",
    "points(fpr_pop,tpr_pop, col=rgb(.1,.5,.1),pch=15,type=\"b\",cex=0.5) #pop\n",
    "points(fpr_r,tpr_r,col=rgb(0,0,1),pch=15,type=\"b\",cex=0.5) #rock\n",
    "points(fpr_s,tpr_s,col=rgb(1,0,1),pch=15,type=\"b\",cex=0.5) #mellow\n",
    "points(fpr_a,tpr_a,col=rgb(1,165/255,0),pch=15,type=\"b\",cex=0.5) #all\n",
    "legend(.75,.3,legend=c(\"Hip Hop\",\"Pop\",\"Rock\",\"Sad\",\"All\"),col=c(rgb(1,0,0),rgb(.1,.5,.1),rgb(0,0,1),rgb(1,0,1),rgb(1,165/255,0)),pch=15,title=\"Genres\")\n",
    "#draw y=x line \n",
    "abline(a=0,b=1)\n",
    "title(\"ROC Curve for All Genres\")"
   ]
  },
  {
   "cell_type": "code",
   "execution_count": 217,
   "metadata": {},
   "outputs": [
    {
     "data": {},
     "metadata": {},
     "output_type": "display_data"
    }
   ],
   "source": [
    "help(package=colorspace)"
   ]
  },
  {
   "cell_type": "markdown",
   "metadata": {
    "collapsed": true
   },
   "source": [
    "### Pop ROC Curve"
   ]
  },
  {
   "cell_type": "code",
   "execution_count": 394,
   "metadata": {
    "collapsed": true
   },
   "outputs": [],
   "source": [
    "# Redo the fitting again\n",
    "#Set up lower bound and uper bound for threshold \n",
    "lb <- 0; ub <- 1\n",
    "\n",
    "#Establish weighted average ratios\n",
    "tpr_w <- .5; recommend_w <- .5;\n",
    "\n",
    "#Define variables\n",
    "tpr_pop <- rep(0, (ub-lb)/0.01 + 1)\n",
    "fpr_pop <- rep(0, (ub-lb)/0.01 + 1)\n",
    "counter <- 1\n",
    "accuracy <- 0\n",
    "index <- 1\n",
    "index_1 <- -1; index_2 <- -1; index_3 <- -1;\n",
    "train_ind <- sample(1:nrow(spotify3), 2/3*nrow(spotify3))\n",
    "spotify3_train <- spotify3[train_ind, ]\n",
    "spotify3_test <- spotify3[-train_ind, ]\n",
    "\n",
    "#Training fit of function \n",
    "spotify3_logit <- glm(Like.or.not.like~., data = spotify3_train, family = binomial)\n",
    "#Testing fit for TESTING\n",
    "spotify3_pred <- predict(spotify3_logit, spotify3_test, type = \"response\")\n",
    "\n",
    "#For loop for varying thresholds\n",
    "for (threshold in seq(0,1,.01)) {\n",
    "\n",
    "    #Fit Logistic Regression for different threshold\n",
    "    spotify_bin <- as.numeric(spotify3_pred >= threshold)\n",
    "    table(spotify_bin, spotify3_test$Like.or.not.like)\n",
    "    y=table(spotify_bin, spotify3_test$Like.or.not.like)\n",
    "    \n",
    "    #Check that table is 2x2 then only do the following\n",
    "    if (dim(y)[1] == 2 && dim(y)[2] == 2 && (y[1,1]!=0 && y[1,2]!=0 && y[2,1]!=0 && y[2,2]!=0)) {\n",
    "\n",
    "        #track the TPR and FPR for different thresholds\n",
    "        tpr_pop[counter] <- y[2,2]/(sum(y[,2])) \n",
    "        fpr_pop[counter] <- y[2,1]/(sum(y[,1]))\n",
    "    \n",
    "        #Calculate best combination of weighted average accuracy\n",
    "        #Go through each TPR weightage\n",
    "        for (j in seq(tpr_w, 1.0, 0.01)) {\n",
    "            #Go through each recommended weightage\n",
    "            for (k in seq(recommend_w, 1.0, 0.01)) {\n",
    "                    if (((tpr_w*tpr_pop[counter] + recommend_w*y[2,2]/sum(y[2,])) > accuracy) && (tpr_pop[counter] > j) && ((y[2,2]/sum(y[2,])) > k ) ) {\n",
    "                        accuracy <- (tpr_w*tpr_pop[counter] + recommend_w*y[2,2]/sum(y[2,]))\n",
    "                        index_1 <- counter\n",
    "                        index_2 <- j\n",
    "                        index_3 <- k\n",
    "                        selected_table=table(spotify_bin, spotify3_test$Like.or.not.like)\n",
    "                }\n",
    "            }\n",
    "        }\n",
    "    }                  \n",
    "    counter <- counter+1\n",
    "}"
   ]
  },
  {
   "cell_type": "markdown",
   "metadata": {
    "collapsed": true
   },
   "source": [
    "### Rock ROC Curve"
   ]
  },
  {
   "cell_type": "code",
   "execution_count": 378,
   "metadata": {
    "collapsed": true
   },
   "outputs": [],
   "source": [
    "# Redo the fitting again\n",
    "#Set up lower bound and uper bound for threshold \n",
    "lb <- 0; ub <- 1\n",
    "\n",
    "#Establish weighted average ratios\n",
    "tpr_w <- .5; recommend_w <- .5;\n",
    "\n",
    "#Define variables\n",
    "tpr_r <- rep(0, (ub-lb)/0.01 + 1)\n",
    "fpr_r <- rep(0, (ub-lb)/0.01 + 1)\n",
    "counter <- 1\n",
    "accuracy <- 0\n",
    "index <- 1\n",
    "index_1 <- -1; index_2 <- -1; index_3 <- -1;\n",
    "train_ind <- sample(1:nrow(spotify3), 2/3*nrow(spotify3))\n",
    "spotify3_train <- spotify3[train_ind, ]\n",
    "spotify3_test <- spotify3[-train_ind, ]\n",
    "\n",
    "#Training fit of function \n",
    "spotify3_logit <- glm(Like.or.not.like~., data = spotify3_train, family = binomial)\n",
    "#Testing fit for TESTING\n",
    "spotify3_pred <- predict(spotify3_logit, spotify3_test, type = \"response\")\n",
    "\n",
    "#For loop for varying thresholds\n",
    "for (threshold in seq(0,1,.01)) {\n",
    "\n",
    "    #Fit Logistic Regression for different threshold\n",
    "    spotify_bin <- as.numeric(spotify3_pred >= threshold)\n",
    "    table(spotify_bin, spotify3_test$Like.or.not.like)\n",
    "    y=table(spotify_bin, spotify3_test$Like.or.not.like)\n",
    "    \n",
    "    #Check that table is 2x2 then only do the following\n",
    "    if (dim(y)[1] == 2 && dim(y)[2] == 2 && (y[1,1]!=0 && y[1,2]!=0 && y[2,1]!=0 && y[2,2]!=0)) {\n",
    "\n",
    "        #track the TPR and FPR for different thresholds\n",
    "        tpr_r[counter] <- y[2,2]/(sum(y[,2])) \n",
    "        fpr_r[counter] <- y[2,1]/(sum(y[,1]))\n",
    "    \n",
    "        #Calculate best combination of weighted average accuracy\n",
    "        #Go through each TPR weightage\n",
    "        for (j in seq(tpr_w, 1.0, 0.01)) {\n",
    "            #Go through each recommended weightage\n",
    "            for (k in seq(recommend_w, 1.0, 0.01)) {\n",
    "                    if (((tpr_w*tpr_r[counter] + recommend_w*y[2,2]/sum(y[2,])) > accuracy) && (tpr_r[counter] > j) && ((y[2,2]/sum(y[2,])) > k ) ) {\n",
    "                        accuracy <- (tpr_w*tpr_r[counter] + recommend_w*y[2,2]/sum(y[2,]))\n",
    "                        index_1 <- counter\n",
    "                        index_2 <- j\n",
    "                        index_3 <- k\n",
    "                        selected_table=table(spotify_bin, spotify3_test$Like.or.not.like)\n",
    "                }\n",
    "            }\n",
    "        }\n",
    "    }                  \n",
    "    counter <- counter+1\n",
    "}"
   ]
  },
  {
   "cell_type": "markdown",
   "metadata": {},
   "source": [
    "### Mellow Songs"
   ]
  },
  {
   "cell_type": "code",
   "execution_count": 385,
   "metadata": {
    "collapsed": true
   },
   "outputs": [],
   "source": [
    "# Redo the fitting again\n",
    "#Set up lower bound and uper bound for threshold \n",
    "lb <- 0; ub <- 1\n",
    "\n",
    "#Establish weighted average ratios\n",
    "tpr_w <- .5; recommend_w <- .5;\n",
    "\n",
    "#Define variables\n",
    "tpr_s <- rep(0, (ub-lb)/0.01 + 1)\n",
    "fpr_s <- rep(0, (ub-lb)/0.01 + 1)\n",
    "counter <- 1\n",
    "accuracy <- 0\n",
    "index <- 1\n",
    "index_1 <- -1; index_2 <- -1; index_3 <- -1;\n",
    "train_ind <- sample(1:nrow(spotify3), 2/3*nrow(spotify3))\n",
    "spotify3_train <- spotify3[train_ind, ]\n",
    "spotify3_test <- spotify3[-train_ind, ]\n",
    "\n",
    "#Training fit of function \n",
    "spotify3_logit <- glm(Like.or.not.like~., data = spotify3_train, family = binomial)\n",
    "#Testing fit for TESTING\n",
    "spotify3_pred <- predict(spotify3_logit, spotify3_test, type = \"response\")\n",
    "\n",
    "#For loop for varying thresholds\n",
    "for (threshold in seq(0,1,.01)) {\n",
    "\n",
    "    #Fit Logistic Regression for different threshold\n",
    "    spotify_bin <- as.numeric(spotify3_pred >= threshold)\n",
    "    table(spotify_bin, spotify3_test$Like.or.not.like)\n",
    "    y=table(spotify_bin, spotify3_test$Like.or.not.like)\n",
    "    \n",
    "    #Check that table is 2x2 then only do the following\n",
    "    if (dim(y)[1] == 2 && dim(y)[2] == 2 && (y[1,1]!=0 && y[1,2]!=0 && y[2,1]!=0 && y[2,2]!=0)) {\n",
    "\n",
    "        #track the TPR and FPR for different thresholds\n",
    "        tpr_s[counter] <- y[2,2]/(sum(y[,2])) \n",
    "        fpr_s[counter] <- y[2,1]/(sum(y[,1]))\n",
    "    \n",
    "        #Calculate best combination of weighted average accuracy\n",
    "        #Go through each TPR weightage\n",
    "        for (j in seq(tpr_w, 1.0, 0.01)) {\n",
    "            #Go through each recommended weightage\n",
    "            for (k in seq(recommend_w, 1.0, 0.01)) {\n",
    "                    if (((tpr_w*tpr_s[counter] + recommend_w*y[2,2]/sum(y[2,])) > accuracy) && (tpr_s[counter] > j) && ((y[2,2]/sum(y[2,])) > k ) ) {\n",
    "                        accuracy <- (tpr_w*tpr_s[counter] + recommend_w*y[2,2]/sum(y[2,]))\n",
    "                        index_1 <- counter\n",
    "                        index_2 <- j\n",
    "                        index_3 <- k\n",
    "                        selected_table=table(spotify_bin, spotify3_test$Like.or.not.like)\n",
    "                }\n",
    "            }\n",
    "        }\n",
    "    }                  \n",
    "    counter <- counter+1\n",
    "}"
   ]
  },
  {
   "cell_type": "markdown",
   "metadata": {},
   "source": [
    "### All Genres"
   ]
  },
  {
   "cell_type": "code",
   "execution_count": 408,
   "metadata": {
    "collapsed": true
   },
   "outputs": [],
   "source": [
    "# Redo the fitting again\n",
    "#Set up lower bound and uper bound for threshold \n",
    "lb <- 0; ub <- 1\n",
    "\n",
    "#Establish weighted average ratios\n",
    "tpr_w <- .5; recommend_w <- .5;\n",
    "\n",
    "#Define variables\n",
    "tpr_a <- rep(0, (ub-lb)/0.01 + 1)\n",
    "fpr_a <- rep(0, (ub-lb)/0.01 + 1)\n",
    "counter <- 1\n",
    "accuracy <- 0\n",
    "index <- 1\n",
    "index_1 <- -1; index_2 <- -1; index_3 <- -1;\n",
    "train_ind <- sample(1:nrow(spotify3), 2/3*nrow(spotify3))\n",
    "spotify3_train <- spotify3[train_ind, ]\n",
    "spotify3_test <- spotify3[-train_ind, ]\n",
    "\n",
    "#Training fit of function \n",
    "spotify3_logit <- glm(Like.or.not.like~., data = spotify3_train, family = binomial)\n",
    "#Testing fit for TESTING\n",
    "spotify3_pred <- predict(spotify3_logit, spotify3_test, type = \"response\")\n",
    "\n",
    "#For loop for varying thresholds\n",
    "for (threshold in seq(0,1,.01)) {\n",
    "\n",
    "    #Fit Logistic Regression for different threshold\n",
    "    spotify_bin <- as.numeric(spotify3_pred >= threshold)\n",
    "    table(spotify_bin, spotify3_test$Like.or.not.like)\n",
    "    y=table(spotify_bin, spotify3_test$Like.or.not.like)\n",
    "    \n",
    "    #Check that table is 2x2 then only do the following\n",
    "    if (dim(y)[1] == 2 && dim(y)[2] == 2 && (y[1,1]!=0 && y[1,2]!=0 && y[2,1]!=0 && y[2,2]!=0)) {\n",
    "\n",
    "        #track the TPR and FPR for different thresholds\n",
    "        tpr_a[counter] <- y[2,2]/(sum(y[,2])) \n",
    "        fpr_a[counter] <- y[2,1]/(sum(y[,1]))\n",
    "    \n",
    "        #Calculate best combination of weighted average accuracy\n",
    "        #Go through each TPR weightage\n",
    "        for (j in seq(tpr_w, 1.0, 0.01)) {\n",
    "            #Go through each recommended weightage\n",
    "            for (k in seq(recommend_w, 1.0, 0.01)) {\n",
    "                    if (((tpr_w*tpr_a[counter] + recommend_w*y[2,2]/sum(y[2,])) > accuracy) && (tpr_a[counter] > j) && ((y[2,2]/sum(y[2,])) > k ) ) {\n",
    "                        accuracy <- (tpr_w*tpr_a[counter] + recommend_w*y[2,2]/sum(y[2,]))\n",
    "                        index_1 <- counter\n",
    "                        index_2 <- j\n",
    "                        index_3 <- k\n",
    "                        selected_table=table(spotify_bin, spotify3_test$Like.or.not.like)\n",
    "                }\n",
    "            }\n",
    "        }\n",
    "    }                  \n",
    "    counter <- counter+1\n",
    "}"
   ]
  },
  {
   "cell_type": "code",
   "execution_count": null,
   "metadata": {
    "collapsed": true
   },
   "outputs": [],
   "source": []
  }
 ],
 "metadata": {
  "kernelspec": {
   "display_name": "R",
   "language": "R",
   "name": "ir"
  },
  "language_info": {
   "codemirror_mode": "r",
   "file_extension": ".r",
   "mimetype": "text/x-r-source",
   "name": "R",
   "pygments_lexer": "r",
   "version": "3.4.1"
  }
 },
 "nbformat": 4,
 "nbformat_minor": 2
}
